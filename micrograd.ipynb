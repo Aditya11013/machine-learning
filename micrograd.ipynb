{
  "nbformat": 4,
  "nbformat_minor": 0,
  "metadata": {
    "colab": {
      "provenance": [],
      "authorship_tag": "ABX9TyP3TqAxtXOy6UwEvcIXuKpM",
      "include_colab_link": true
    },
    "kernelspec": {
      "name": "python3",
      "display_name": "Python 3"
    },
    "language_info": {
      "name": "python"
    }
  },
  "cells": [
    {
      "cell_type": "markdown",
      "metadata": {
        "id": "view-in-github",
        "colab_type": "text"
      },
      "source": [
        "<a href=\"https://colab.research.google.com/github/Aditya11013/machine-learning/blob/main/micrograd.ipynb\" target=\"_parent\"><img src=\"https://colab.research.google.com/assets/colab-badge.svg\" alt=\"Open In Colab\"/></a>"
      ]
    },
    {
      "cell_type": "code",
      "execution_count": 1,
      "metadata": {
        "id": "E1KhHUhkEVg6"
      },
      "outputs": [],
      "source": [
        "import math\n",
        "import numpy as np\n",
        "import matplotlib.pyplot as plt\n",
        "%matplotlib inline"
      ]
    },
    {
      "cell_type": "code",
      "source": [
        "class Value:\n",
        "    def __init__(self,data,_children=(),_op='',label=''):\n",
        "        self.data = data\n",
        "        self._prev = set(_children)\n",
        "        self._op = _op\n",
        "        self.label = label\n",
        "        self.grad = 0.0\n",
        "        self._backward = lambda: None\n",
        "    def __repr__(self):\n",
        "        return f'value(data={self.data})'\n",
        "    def __add__(self,other):\n",
        "        other = other if isinstance(other, Value) else Value(other)\n",
        "        out = Value(self.data+other.data,(self,other),'+')\n",
        "        def _backward():\n",
        "          self.grad += 1.0*out.grad\n",
        "          other.grad += 1.0*out.grad\n",
        "        out._backward = _backward\n",
        "        return out\n",
        "    def __mul__(self,other):\n",
        "        other = other if isinstance(other, Value) else Value(other)\n",
        "        out = Value(self.data*other.data,(self,other),'*')\n",
        "        def _backward():\n",
        "          self.grad += (other.data)*out.grad\n",
        "          other.grad += (self.data)*out.grad\n",
        "        out._backward = _backward\n",
        "\n",
        "        return out\n",
        "    def __neg__(self):\n",
        "      return self*-1\n",
        "    def __sub__(self,other):\n",
        "      return self + (-other)\n",
        "    def __pow__(self,other):\n",
        "      assert isinstance(other,(int,float))\n",
        "      out = Value(self.data**other,(self,),f'**{other}')\n",
        "      def _backward():\n",
        "        self.grad+= other * (self.data **(other-1))\n",
        "      out._backward = _backward\n",
        "      return out\n",
        "    def __radd__(self, other):\n",
        "      return self.__add__(other)\n",
        "\n",
        "    def __rmul__(self,other):\n",
        "      return self*other\n",
        "\n",
        "    def __truediv__(self,other):\n",
        "      # other = other if isinstance(other, Value) else Value(other)\n",
        "      return self*other**-1\n",
        "\n",
        "    def tanh(self):\n",
        "      x =self.data\n",
        "      t = (math.exp(2*x)-1)/(math.exp(2*x)+1)\n",
        "      out = Value(t,(self,),'tanh')\n",
        "      def _backward():\n",
        "        self.grad += (1-t**2)*out.grad\n",
        "      out._backward = _backward\n",
        "      return out\n",
        "    def exp(self):\n",
        "      x = self.data\n",
        "      out = Value(math.exp(x),(self,),'exp')\n",
        "      def _backward():\n",
        "        self.grad = out.data*out.grad\n",
        "      out._backward = _backward\n",
        "      return out\n",
        "    def backward(self):\n",
        "      topo = []\n",
        "      nodes=set()\n",
        "      def build(v):\n",
        "        if v not in nodes:\n",
        "          nodes.add(v)\n",
        "          for child in v._prev:\n",
        "            build(child)\n",
        "          topo.append(v)\n",
        "      build(self)\n",
        "\n",
        "      self.grad = 1.0\n",
        "      for node in reversed(topo):\n",
        "        node._backward()\n"
      ],
      "metadata": {
        "id": "ic2KUVlUEV_7"
      },
      "execution_count": 24,
      "outputs": []
    },
    {
      "cell_type": "code",
      "source": [
        "from graphviz import Digraph\n",
        "\n",
        "def trace(root):\n",
        "  # builds a set of all nodes and edges in a graph\n",
        "  nodes, edges = set(), set()\n",
        "  def build(v):\n",
        "    if v not in nodes:\n",
        "      nodes.add(v)\n",
        "      for child in v._prev:\n",
        "        edges.add((child, v))\n",
        "        build(child)\n",
        "  build(root)\n",
        "  return nodes, edges\n",
        "\n",
        "def draw_dot(root):\n",
        "  dot = Digraph(format='svg', graph_attr={'rankdir': 'LR'}) # LR = left to right\n",
        "\n",
        "  nodes, edges = trace(root)\n",
        "  for n in nodes:\n",
        "    uid = str(id(n))\n",
        "    # for any value in the graph, create a rectangular ('record') node for it\n",
        "    dot.node(name = uid, label = \"{ %s | data %.4f | grad %.4f }\" % (n.label, n.data, n.grad), shape='record')\n",
        "    if n._op:\n",
        "      # if this value is a result of some operation, create an op node for it\n",
        "      dot.node(name = uid + n._op, label = n._op)\n",
        "      # and connect this node to it\n",
        "      dot.edge(uid + n._op, uid)\n",
        "\n",
        "  for n1, n2 in edges:\n",
        "    # connect n1 to the op node of n2\n",
        "    dot.edge(str(id(n1)), str(id(n2)) + n2._op)\n",
        "\n",
        "  return dot"
      ],
      "metadata": {
        "id": "wNKpp2AtEXVd"
      },
      "execution_count": 3,
      "outputs": []
    },
    {
      "cell_type": "code",
      "source": [
        "a = Value(2.0,label = 'a')\n",
        "b= Value(4.0,label='b')\n",
        "c = a+b ;c.label = 'c'\n",
        "c"
      ],
      "metadata": {
        "colab": {
          "base_uri": "https://localhost:8080/"
        },
        "id": "4S5PSJhJEYwe",
        "outputId": "0f2fb363-cc88-417f-9a49-be60537587f4"
      },
      "execution_count": null,
      "outputs": [
        {
          "output_type": "execute_result",
          "data": {
            "text/plain": [
              "value(data=6.0)"
            ]
          },
          "metadata": {},
          "execution_count": 4
        }
      ]
    },
    {
      "cell_type": "code",
      "source": [
        "draw_dot(c)"
      ],
      "metadata": {
        "colab": {
          "base_uri": "https://localhost:8080/",
          "height": 155
        },
        "id": "nKHe-3xDEaWP",
        "outputId": "eb6f979a-2c16-4c44-875d-4a0fc0642f9d"
      },
      "execution_count": null,
      "outputs": [
        {
          "output_type": "execute_result",
          "data": {
            "image/svg+xml": "<?xml version=\"1.0\" encoding=\"UTF-8\" standalone=\"no\"?>\n<!DOCTYPE svg PUBLIC \"-//W3C//DTD SVG 1.1//EN\"\n \"http://www.w3.org/Graphics/SVG/1.1/DTD/svg11.dtd\">\n<!-- Generated by graphviz version 2.43.0 (0)\n -->\n<!-- Title: %3 Pages: 1 -->\n<svg width=\"504pt\" height=\"100pt\"\n viewBox=\"0.00 0.00 504.00 100.00\" xmlns=\"http://www.w3.org/2000/svg\" xmlns:xlink=\"http://www.w3.org/1999/xlink\">\n<g id=\"graph0\" class=\"graph\" transform=\"scale(1 1) rotate(0) translate(4 96)\">\n<title>%3</title>\n<polygon fill=\"white\" stroke=\"transparent\" points=\"-4,4 -4,-96 500,-96 500,4 -4,4\"/>\n<!-- 134538583736960 -->\n<g id=\"node1\" class=\"node\">\n<title>134538583736960</title>\n<polygon fill=\"none\" stroke=\"black\" points=\"0,-55.5 0,-91.5 185,-91.5 185,-55.5 0,-55.5\"/>\n<text text-anchor=\"middle\" x=\"11.5\" y=\"-69.8\" font-family=\"Times,serif\" font-size=\"14.00\">b</text>\n<polyline fill=\"none\" stroke=\"black\" points=\"23,-55.5 23,-91.5 \"/>\n<text text-anchor=\"middle\" x=\"63\" y=\"-69.8\" font-family=\"Times,serif\" font-size=\"14.00\">data 4.0000</text>\n<polyline fill=\"none\" stroke=\"black\" points=\"103,-55.5 103,-91.5 \"/>\n<text text-anchor=\"middle\" x=\"144\" y=\"-69.8\" font-family=\"Times,serif\" font-size=\"14.00\">grad 0.0000</text>\n</g>\n<!-- 134538583742912+ -->\n<g id=\"node3\" class=\"node\">\n<title>134538583742912+</title>\n<ellipse fill=\"none\" stroke=\"black\" cx=\"248\" cy=\"-45.5\" rx=\"27\" ry=\"18\"/>\n<text text-anchor=\"middle\" x=\"248\" y=\"-41.8\" font-family=\"Times,serif\" font-size=\"14.00\">+</text>\n</g>\n<!-- 134538583736960&#45;&gt;134538583742912+ -->\n<g id=\"edge2\" class=\"edge\">\n<title>134538583736960&#45;&gt;134538583742912+</title>\n<path fill=\"none\" stroke=\"black\" d=\"M185.01,-56.81C194.49,-55.08 203.66,-53.41 211.9,-51.9\"/>\n<polygon fill=\"black\" stroke=\"black\" points=\"212.6,-55.33 221.81,-50.09 211.35,-48.45 212.6,-55.33\"/>\n</g>\n<!-- 134538583742912 -->\n<g id=\"node2\" class=\"node\">\n<title>134538583742912</title>\n<polygon fill=\"none\" stroke=\"black\" points=\"311,-27.5 311,-63.5 496,-63.5 496,-27.5 311,-27.5\"/>\n<text text-anchor=\"middle\" x=\"322.5\" y=\"-41.8\" font-family=\"Times,serif\" font-size=\"14.00\">c</text>\n<polyline fill=\"none\" stroke=\"black\" points=\"334,-27.5 334,-63.5 \"/>\n<text text-anchor=\"middle\" x=\"374\" y=\"-41.8\" font-family=\"Times,serif\" font-size=\"14.00\">data 6.0000</text>\n<polyline fill=\"none\" stroke=\"black\" points=\"414,-27.5 414,-63.5 \"/>\n<text text-anchor=\"middle\" x=\"455\" y=\"-41.8\" font-family=\"Times,serif\" font-size=\"14.00\">grad 0.0000</text>\n</g>\n<!-- 134538583742912+&#45;&gt;134538583742912 -->\n<g id=\"edge1\" class=\"edge\">\n<title>134538583742912+&#45;&gt;134538583742912</title>\n<path fill=\"none\" stroke=\"black\" d=\"M275.04,-45.5C282.58,-45.5 291.3,-45.5 300.57,-45.5\"/>\n<polygon fill=\"black\" stroke=\"black\" points=\"300.81,-49 310.81,-45.5 300.81,-42 300.81,-49\"/>\n</g>\n<!-- 134538583738976 -->\n<g id=\"node4\" class=\"node\">\n<title>134538583738976</title>\n<polygon fill=\"none\" stroke=\"black\" points=\"0,-0.5 0,-36.5 185,-36.5 185,-0.5 0,-0.5\"/>\n<text text-anchor=\"middle\" x=\"11.5\" y=\"-14.8\" font-family=\"Times,serif\" font-size=\"14.00\">a</text>\n<polyline fill=\"none\" stroke=\"black\" points=\"23,-0.5 23,-36.5 \"/>\n<text text-anchor=\"middle\" x=\"63\" y=\"-14.8\" font-family=\"Times,serif\" font-size=\"14.00\">data 2.0000</text>\n<polyline fill=\"none\" stroke=\"black\" points=\"103,-0.5 103,-36.5 \"/>\n<text text-anchor=\"middle\" x=\"144\" y=\"-14.8\" font-family=\"Times,serif\" font-size=\"14.00\">grad 0.0000</text>\n</g>\n<!-- 134538583738976&#45;&gt;134538583742912+ -->\n<g id=\"edge3\" class=\"edge\">\n<title>134538583738976&#45;&gt;134538583742912+</title>\n<path fill=\"none\" stroke=\"black\" d=\"M185.01,-34.6C194.49,-36.26 203.66,-37.88 211.9,-39.33\"/>\n<polygon fill=\"black\" stroke=\"black\" points=\"211.36,-42.78 221.81,-41.07 212.57,-35.89 211.36,-42.78\"/>\n</g>\n</g>\n</svg>\n",
            "text/plain": [
              "<graphviz.graphs.Digraph at 0x7a5cb47e0580>"
            ]
          },
          "metadata": {},
          "execution_count": 5
        }
      ]
    },
    {
      "cell_type": "code",
      "source": [
        "x1 = Value(2.0,label='x1')\n",
        "x2 = Value(0.0 , label='x2')\n",
        "\n",
        "w1 = Value(-3.0,label = 'w1')\n",
        "w2 = Value(1.0 , label = 'w2')\n",
        "\n",
        "b = Value(6.8813735870195432 , label = 'b')\n",
        "\n",
        "x1w1 = x1*w1; x1w1.label = 'x1w1'\n",
        "x2w2 = x2*w2 ; x2w2.label = 'x2w2'\n",
        "\n",
        "x1w1x2w2 = x1w1+x2w2;x1w1x2w2.label = 'x1w1+x2w2'\n",
        "\n",
        "n = x1w1x2w2+b ; n.label='n'\n",
        "\n",
        "e = (2*n).exp()\n",
        "o = (e-1)/(e+1)\n",
        "o.label='o'\n",
        "# o = n.tanh() ;\n",
        "# o.grad = 1.0"
      ],
      "metadata": {
        "id": "Kg07ODNPEcNS"
      },
      "execution_count": null,
      "outputs": []
    },
    {
      "cell_type": "code",
      "source": [
        "o.backward()"
      ],
      "metadata": {
        "id": "js0h71nbvfSx"
      },
      "execution_count": null,
      "outputs": []
    },
    {
      "cell_type": "code",
      "source": [
        "draw_dot(o)"
      ],
      "metadata": {
        "colab": {
          "base_uri": "https://localhost:8080/",
          "height": 356
        },
        "id": "hWQbTwlSHX8Q",
        "outputId": "2e3c9aa9-4beb-4f90-b3d0-d533dd655daa"
      },
      "execution_count": null,
      "outputs": [
        {
          "output_type": "execute_result",
          "data": {
            "image/svg+xml": "<?xml version=\"1.0\" encoding=\"UTF-8\" standalone=\"no\"?>\n<!DOCTYPE svg PUBLIC \"-//W3C//DTD SVG 1.1//EN\"\n \"http://www.w3.org/Graphics/SVG/1.1/DTD/svg11.dtd\">\n<!-- Generated by graphviz version 2.43.0 (0)\n -->\n<!-- Title: %3 Pages: 1 -->\n<svg width=\"2917pt\" height=\"236pt\"\n viewBox=\"0.00 0.00 2917.00 236.00\" xmlns=\"http://www.w3.org/2000/svg\" xmlns:xlink=\"http://www.w3.org/1999/xlink\">\n<g id=\"graph0\" class=\"graph\" transform=\"scale(1 1) rotate(0) translate(4 232)\">\n<title>%3</title>\n<polygon fill=\"white\" stroke=\"transparent\" points=\"-4,4 -4,-232 2913,-232 2913,4 -4,4\"/>\n<!-- 139427231438336 -->\n<g id=\"node1\" class=\"node\">\n<title>139427231438336</title>\n<polygon fill=\"none\" stroke=\"black\" points=\"328.5,-55.5 328.5,-91.5 537.5,-91.5 537.5,-55.5 328.5,-55.5\"/>\n<text text-anchor=\"middle\" x=\"352\" y=\"-69.8\" font-family=\"Times,serif\" font-size=\"14.00\">x2w2</text>\n<polyline fill=\"none\" stroke=\"black\" points=\"375.5,-55.5 375.5,-91.5 \"/>\n<text text-anchor=\"middle\" x=\"415.5\" y=\"-69.8\" font-family=\"Times,serif\" font-size=\"14.00\">data 0.0000</text>\n<polyline fill=\"none\" stroke=\"black\" points=\"455.5,-55.5 455.5,-91.5 \"/>\n<text text-anchor=\"middle\" x=\"496.5\" y=\"-69.8\" font-family=\"Times,serif\" font-size=\"14.00\">grad 1.4571</text>\n</g>\n<!-- 139427231439968+ -->\n<g id=\"node6\" class=\"node\">\n<title>139427231439968+</title>\n<ellipse fill=\"none\" stroke=\"black\" cx=\"603\" cy=\"-100.5\" rx=\"27\" ry=\"18\"/>\n<text text-anchor=\"middle\" x=\"603\" y=\"-96.8\" font-family=\"Times,serif\" font-size=\"14.00\">+</text>\n</g>\n<!-- 139427231438336&#45;&gt;139427231439968+ -->\n<g id=\"edge11\" class=\"edge\">\n<title>139427231438336&#45;&gt;139427231439968+</title>\n<path fill=\"none\" stroke=\"black\" d=\"M537.53,-90.14C547.8,-91.79 557.66,-93.37 566.45,-94.79\"/>\n<polygon fill=\"black\" stroke=\"black\" points=\"566.16,-98.28 576.59,-96.42 567.27,-91.37 566.16,-98.28\"/>\n</g>\n<!-- 139427231438336* -->\n<g id=\"node2\" class=\"node\">\n<title>139427231438336*</title>\n<ellipse fill=\"none\" stroke=\"black\" cx=\"263\" cy=\"-73.5\" rx=\"27\" ry=\"18\"/>\n<text text-anchor=\"middle\" x=\"263\" y=\"-69.8\" font-family=\"Times,serif\" font-size=\"14.00\">*</text>\n</g>\n<!-- 139427231438336*&#45;&gt;139427231438336 -->\n<g id=\"edge1\" class=\"edge\">\n<title>139427231438336*&#45;&gt;139427231438336</title>\n<path fill=\"none\" stroke=\"black\" d=\"M290.25,-73.5C298.43,-73.5 308.03,-73.5 318.31,-73.5\"/>\n<polygon fill=\"black\" stroke=\"black\" points=\"318.35,-77 328.35,-73.5 318.35,-70 318.35,-77\"/>\n</g>\n<!-- 139427231440976 -->\n<g id=\"node3\" class=\"node\">\n<title>139427231440976</title>\n<polygon fill=\"none\" stroke=\"black\" points=\"0,-165.5 0,-201.5 200,-201.5 200,-165.5 0,-165.5\"/>\n<text text-anchor=\"middle\" x=\"16.5\" y=\"-179.8\" font-family=\"Times,serif\" font-size=\"14.00\">w1</text>\n<polyline fill=\"none\" stroke=\"black\" points=\"33,-165.5 33,-201.5 \"/>\n<text text-anchor=\"middle\" x=\"75.5\" y=\"-179.8\" font-family=\"Times,serif\" font-size=\"14.00\">data &#45;3.0000</text>\n<polyline fill=\"none\" stroke=\"black\" points=\"118,-165.5 118,-201.5 \"/>\n<text text-anchor=\"middle\" x=\"159\" y=\"-179.8\" font-family=\"Times,serif\" font-size=\"14.00\">grad 2.9142</text>\n</g>\n<!-- 139427231444624* -->\n<g id=\"node11\" class=\"node\">\n<title>139427231444624*</title>\n<ellipse fill=\"none\" stroke=\"black\" cx=\"263\" cy=\"-128.5\" rx=\"27\" ry=\"18\"/>\n<text text-anchor=\"middle\" x=\"263\" y=\"-124.8\" font-family=\"Times,serif\" font-size=\"14.00\">*</text>\n</g>\n<!-- 139427231440976&#45;&gt;139427231444624* -->\n<g id=\"edge27\" class=\"edge\">\n<title>139427231440976&#45;&gt;139427231444624*</title>\n<path fill=\"none\" stroke=\"black\" d=\"M172.53,-165.44C181.84,-162.67 191.2,-159.67 200,-156.5 210.53,-152.71 221.75,-147.9 231.72,-143.33\"/>\n<polygon fill=\"black\" stroke=\"black\" points=\"233.25,-146.48 240.82,-139.07 230.28,-140.14 233.25,-146.48\"/>\n</g>\n<!-- 139427231779424 -->\n<g id=\"node4\" class=\"node\">\n<title>139427231779424</title>\n<polygon fill=\"none\" stroke=\"black\" points=\"1663.5,-81.5 1663.5,-117.5 1849.5,-117.5 1849.5,-81.5 1663.5,-81.5\"/>\n<text text-anchor=\"middle\" x=\"1673.5\" y=\"-95.8\" font-family=\"Times,serif\" font-size=\"14.00\"> </text>\n<polyline fill=\"none\" stroke=\"black\" points=\"1683.5,-81.5 1683.5,-117.5 \"/>\n<text text-anchor=\"middle\" x=\"1723.5\" y=\"-95.8\" font-family=\"Times,serif\" font-size=\"14.00\">data 1.0000</text>\n<polyline fill=\"none\" stroke=\"black\" points=\"1763.5,-81.5 1763.5,-117.5 \"/>\n<text text-anchor=\"middle\" x=\"1806.5\" y=\"-95.8\" font-family=\"Times,serif\" font-size=\"14.00\">grad &#45;0.0214</text>\n</g>\n<!-- 139427231788160+ -->\n<g id=\"node8\" class=\"node\">\n<title>139427231788160+</title>\n<ellipse fill=\"none\" stroke=\"black\" cx=\"1913\" cy=\"-126.5\" rx=\"27\" ry=\"18\"/>\n<text text-anchor=\"middle\" x=\"1913\" y=\"-122.8\" font-family=\"Times,serif\" font-size=\"14.00\">+</text>\n</g>\n<!-- 139427231779424&#45;&gt;139427231788160+ -->\n<g id=\"edge12\" class=\"edge\">\n<title>139427231779424&#45;&gt;139427231788160+</title>\n<path fill=\"none\" stroke=\"black\" d=\"M1849.6,-115.6C1859.15,-117.26 1868.37,-118.88 1876.68,-120.33\"/>\n<polygon fill=\"black\" stroke=\"black\" points=\"1876.2,-123.8 1886.65,-122.07 1877.4,-116.9 1876.2,-123.8\"/>\n</g>\n<!-- 139427231439968 -->\n<g id=\"node5\" class=\"node\">\n<title>139427231439968</title>\n<polygon fill=\"none\" stroke=\"black\" points=\"666,-82.5 666,-118.5 918,-118.5 918,-82.5 666,-82.5\"/>\n<text text-anchor=\"middle\" x=\"708.5\" y=\"-96.8\" font-family=\"Times,serif\" font-size=\"14.00\">x1w1+x2w2</text>\n<polyline fill=\"none\" stroke=\"black\" points=\"751,-82.5 751,-118.5 \"/>\n<text text-anchor=\"middle\" x=\"793.5\" y=\"-96.8\" font-family=\"Times,serif\" font-size=\"14.00\">data &#45;6.0000</text>\n<polyline fill=\"none\" stroke=\"black\" points=\"836,-82.5 836,-118.5 \"/>\n<text text-anchor=\"middle\" x=\"877\" y=\"-96.8\" font-family=\"Times,serif\" font-size=\"14.00\">grad 1.4571</text>\n</g>\n<!-- 139427231438192+ -->\n<g id=\"node26\" class=\"node\">\n<title>139427231438192+</title>\n<ellipse fill=\"none\" stroke=\"black\" cx=\"981\" cy=\"-127.5\" rx=\"27\" ry=\"18\"/>\n<text text-anchor=\"middle\" x=\"981\" y=\"-123.8\" font-family=\"Times,serif\" font-size=\"14.00\">+</text>\n</g>\n<!-- 139427231439968&#45;&gt;139427231438192+ -->\n<g id=\"edge14\" class=\"edge\">\n<title>139427231439968&#45;&gt;139427231438192+</title>\n<path fill=\"none\" stroke=\"black\" d=\"M917.73,-118.51C927.23,-119.88 936.25,-121.18 944.32,-122.35\"/>\n<polygon fill=\"black\" stroke=\"black\" points=\"943.95,-125.83 954.35,-123.8 944.95,-118.9 943.95,-125.83\"/>\n</g>\n<!-- 139427231439968+&#45;&gt;139427231439968 -->\n<g id=\"edge2\" class=\"edge\">\n<title>139427231439968+&#45;&gt;139427231439968</title>\n<path fill=\"none\" stroke=\"black\" d=\"M630,-100.5C637.52,-100.5 646.3,-100.5 655.79,-100.5\"/>\n<polygon fill=\"black\" stroke=\"black\" points=\"655.92,-104 665.92,-100.5 655.92,-97 655.92,-104\"/>\n</g>\n<!-- 139427231788160 -->\n<g id=\"node7\" class=\"node\">\n<title>139427231788160</title>\n<polygon fill=\"none\" stroke=\"black\" points=\"1976,-108.5 1976,-144.5 2162,-144.5 2162,-108.5 1976,-108.5\"/>\n<text text-anchor=\"middle\" x=\"1986\" y=\"-122.8\" font-family=\"Times,serif\" font-size=\"14.00\"> </text>\n<polyline fill=\"none\" stroke=\"black\" points=\"1996,-108.5 1996,-144.5 \"/>\n<text text-anchor=\"middle\" x=\"2036\" y=\"-122.8\" font-family=\"Times,serif\" font-size=\"14.00\">data 6.8284</text>\n<polyline fill=\"none\" stroke=\"black\" points=\"2076,-108.5 2076,-144.5 \"/>\n<text text-anchor=\"middle\" x=\"2119\" y=\"-122.8\" font-family=\"Times,serif\" font-size=\"14.00\">grad &#45;0.0214</text>\n</g>\n<!-- 139427231781872**&#45;1 -->\n<g id=\"node28\" class=\"node\">\n<title>139427231781872**&#45;1</title>\n<ellipse fill=\"none\" stroke=\"black\" cx=\"2289\" cy=\"-126.5\" rx=\"27\" ry=\"18\"/>\n<text text-anchor=\"middle\" x=\"2289\" y=\"-122.8\" font-family=\"Times,serif\" font-size=\"14.00\">**&#45;1</text>\n</g>\n<!-- 139427231788160&#45;&gt;139427231781872**&#45;1 -->\n<g id=\"edge20\" class=\"edge\">\n<title>139427231788160&#45;&gt;139427231781872**&#45;1</title>\n<path fill=\"none\" stroke=\"black\" d=\"M2162.14,-126.5C2193.72,-126.5 2227.24,-126.5 2251.74,-126.5\"/>\n<polygon fill=\"black\" stroke=\"black\" points=\"2251.98,-130 2261.98,-126.5 2251.98,-123 2251.98,-130\"/>\n</g>\n<!-- 139427231788160+&#45;&gt;139427231788160 -->\n<g id=\"edge3\" class=\"edge\">\n<title>139427231788160+&#45;&gt;139427231788160</title>\n<path fill=\"none\" stroke=\"black\" d=\"M1940.12,-126.5C1947.62,-126.5 1956.29,-126.5 1965.5,-126.5\"/>\n<polygon fill=\"black\" stroke=\"black\" points=\"1965.69,-130 1975.69,-126.5 1965.69,-123 1965.69,-130\"/>\n</g>\n<!-- 139427231446112 -->\n<g id=\"node9\" class=\"node\">\n<title>139427231446112</title>\n<polygon fill=\"none\" stroke=\"black\" points=\"4,-55.5 4,-91.5 196,-91.5 196,-55.5 4,-55.5\"/>\n<text text-anchor=\"middle\" x=\"19\" y=\"-69.8\" font-family=\"Times,serif\" font-size=\"14.00\">x2</text>\n<polyline fill=\"none\" stroke=\"black\" points=\"34,-55.5 34,-91.5 \"/>\n<text text-anchor=\"middle\" x=\"74\" y=\"-69.8\" font-family=\"Times,serif\" font-size=\"14.00\">data 0.0000</text>\n<polyline fill=\"none\" stroke=\"black\" points=\"114,-55.5 114,-91.5 \"/>\n<text text-anchor=\"middle\" x=\"155\" y=\"-69.8\" font-family=\"Times,serif\" font-size=\"14.00\">grad 1.4571</text>\n</g>\n<!-- 139427231446112&#45;&gt;139427231438336* -->\n<g id=\"edge19\" class=\"edge\">\n<title>139427231446112&#45;&gt;139427231438336*</title>\n<path fill=\"none\" stroke=\"black\" d=\"M196.05,-73.5C206.52,-73.5 216.65,-73.5 225.71,-73.5\"/>\n<polygon fill=\"black\" stroke=\"black\" points=\"225.79,-77 235.79,-73.5 225.79,-70 225.79,-77\"/>\n</g>\n<!-- 139427231444624 -->\n<g id=\"node10\" class=\"node\">\n<title>139427231444624</title>\n<polygon fill=\"none\" stroke=\"black\" points=\"326,-110.5 326,-146.5 540,-146.5 540,-110.5 326,-110.5\"/>\n<text text-anchor=\"middle\" x=\"349.5\" y=\"-124.8\" font-family=\"Times,serif\" font-size=\"14.00\">x1w1</text>\n<polyline fill=\"none\" stroke=\"black\" points=\"373,-110.5 373,-146.5 \"/>\n<text text-anchor=\"middle\" x=\"415.5\" y=\"-124.8\" font-family=\"Times,serif\" font-size=\"14.00\">data &#45;6.0000</text>\n<polyline fill=\"none\" stroke=\"black\" points=\"458,-110.5 458,-146.5 \"/>\n<text text-anchor=\"middle\" x=\"499\" y=\"-124.8\" font-family=\"Times,serif\" font-size=\"14.00\">grad 1.4571</text>\n</g>\n<!-- 139427231444624&#45;&gt;139427231439968+ -->\n<g id=\"edge23\" class=\"edge\">\n<title>139427231444624&#45;&gt;139427231439968+</title>\n<path fill=\"none\" stroke=\"black\" d=\"M540.4,-110.77C549.72,-109.21 558.65,-107.72 566.68,-106.39\"/>\n<polygon fill=\"black\" stroke=\"black\" points=\"567.38,-109.82 576.66,-104.72 566.22,-102.91 567.38,-109.82\"/>\n</g>\n<!-- 139427231444624*&#45;&gt;139427231444624 -->\n<g id=\"edge4\" class=\"edge\">\n<title>139427231444624*&#45;&gt;139427231444624</title>\n<path fill=\"none\" stroke=\"black\" d=\"M290.25,-128.5C297.7,-128.5 306.34,-128.5 315.59,-128.5\"/>\n<polygon fill=\"black\" stroke=\"black\" points=\"315.84,-132 325.84,-128.5 315.84,-125 315.84,-132\"/>\n</g>\n<!-- 139427231434928 -->\n<g id=\"node12\" class=\"node\">\n<title>139427231434928</title>\n<polygon fill=\"none\" stroke=\"black\" points=\"699.5,-137.5 699.5,-173.5 884.5,-173.5 884.5,-137.5 699.5,-137.5\"/>\n<text text-anchor=\"middle\" x=\"711\" y=\"-151.8\" font-family=\"Times,serif\" font-size=\"14.00\">b</text>\n<polyline fill=\"none\" stroke=\"black\" points=\"722.5,-137.5 722.5,-173.5 \"/>\n<text text-anchor=\"middle\" x=\"762.5\" y=\"-151.8\" font-family=\"Times,serif\" font-size=\"14.00\">data 6.8814</text>\n<polyline fill=\"none\" stroke=\"black\" points=\"802.5,-137.5 802.5,-173.5 \"/>\n<text text-anchor=\"middle\" x=\"843.5\" y=\"-151.8\" font-family=\"Times,serif\" font-size=\"14.00\">grad 1.4571</text>\n</g>\n<!-- 139427231434928&#45;&gt;139427231438192+ -->\n<g id=\"edge18\" class=\"edge\">\n<title>139427231434928&#45;&gt;139427231438192+</title>\n<path fill=\"none\" stroke=\"black\" d=\"M884.58,-141.79C905.89,-138.6 927.32,-135.39 944.47,-132.82\"/>\n<polygon fill=\"black\" stroke=\"black\" points=\"945.18,-136.25 954.55,-131.31 944.14,-129.33 945.18,-136.25\"/>\n</g>\n<!-- 139427231446208 -->\n<g id=\"node13\" class=\"node\">\n<title>139427231446208</title>\n<polygon fill=\"none\" stroke=\"black\" points=\"1045.5,-164.5 1045.5,-200.5 1227.5,-200.5 1227.5,-164.5 1045.5,-164.5\"/>\n<text text-anchor=\"middle\" x=\"1055.5\" y=\"-178.8\" font-family=\"Times,serif\" font-size=\"14.00\"> </text>\n<polyline fill=\"none\" stroke=\"black\" points=\"1065.5,-164.5 1065.5,-200.5 \"/>\n<text text-anchor=\"middle\" x=\"1105.5\" y=\"-178.8\" font-family=\"Times,serif\" font-size=\"14.00\">data 2.0000</text>\n<polyline fill=\"none\" stroke=\"black\" points=\"1145.5,-164.5 1145.5,-200.5 \"/>\n<text text-anchor=\"middle\" x=\"1186.5\" y=\"-178.8\" font-family=\"Times,serif\" font-size=\"14.00\">grad 0.6421</text>\n</g>\n<!-- 139427231442272* -->\n<g id=\"node22\" class=\"node\">\n<title>139427231442272*</title>\n<ellipse fill=\"none\" stroke=\"black\" cx=\"1292\" cy=\"-154.5\" rx=\"27\" ry=\"18\"/>\n<text text-anchor=\"middle\" x=\"1292\" y=\"-150.8\" font-family=\"Times,serif\" font-size=\"14.00\">*</text>\n</g>\n<!-- 139427231446208&#45;&gt;139427231442272* -->\n<g id=\"edge28\" class=\"edge\">\n<title>139427231446208&#45;&gt;139427231442272*</title>\n<path fill=\"none\" stroke=\"black\" d=\"M1227.68,-166.05C1237.61,-164.24 1247.23,-162.48 1255.84,-160.91\"/>\n<polygon fill=\"black\" stroke=\"black\" points=\"1256.6,-164.33 1265.81,-159.09 1255.35,-157.45 1256.6,-164.33\"/>\n</g>\n<!-- 139427231436368 -->\n<g id=\"node14\" class=\"node\">\n<title>139427231436368</title>\n<polygon fill=\"none\" stroke=\"black\" points=\"2,-110.5 2,-146.5 198,-146.5 198,-110.5 2,-110.5\"/>\n<text text-anchor=\"middle\" x=\"17\" y=\"-124.8\" font-family=\"Times,serif\" font-size=\"14.00\">x1</text>\n<polyline fill=\"none\" stroke=\"black\" points=\"32,-110.5 32,-146.5 \"/>\n<text text-anchor=\"middle\" x=\"72\" y=\"-124.8\" font-family=\"Times,serif\" font-size=\"14.00\">data 2.0000</text>\n<polyline fill=\"none\" stroke=\"black\" points=\"112,-110.5 112,-146.5 \"/>\n<text text-anchor=\"middle\" x=\"155\" y=\"-124.8\" font-family=\"Times,serif\" font-size=\"14.00\">grad &#45;4.3713</text>\n</g>\n<!-- 139427231436368&#45;&gt;139427231444624* -->\n<g id=\"edge22\" class=\"edge\">\n<title>139427231436368&#45;&gt;139427231444624*</title>\n<path fill=\"none\" stroke=\"black\" d=\"M198.37,-128.5C208.05,-128.5 217.4,-128.5 225.8,-128.5\"/>\n<polygon fill=\"black\" stroke=\"black\" points=\"225.91,-132 235.91,-128.5 225.91,-125 225.91,-132\"/>\n</g>\n<!-- 139427231444336 -->\n<g id=\"node15\" class=\"node\">\n<title>139427231444336</title>\n<polygon fill=\"none\" stroke=\"black\" points=\"2198,-163.5 2198,-199.5 2380,-199.5 2380,-163.5 2198,-163.5\"/>\n<text text-anchor=\"middle\" x=\"2208\" y=\"-177.8\" font-family=\"Times,serif\" font-size=\"14.00\"> </text>\n<polyline fill=\"none\" stroke=\"black\" points=\"2218,-163.5 2218,-199.5 \"/>\n<text text-anchor=\"middle\" x=\"2258\" y=\"-177.8\" font-family=\"Times,serif\" font-size=\"14.00\">data 4.8284</text>\n<polyline fill=\"none\" stroke=\"black\" points=\"2298,-163.5 2298,-199.5 \"/>\n<text text-anchor=\"middle\" x=\"2339\" y=\"-177.8\" font-family=\"Times,serif\" font-size=\"14.00\">grad 0.1464</text>\n</g>\n<!-- 139427231788448* -->\n<g id=\"node24\" class=\"node\">\n<title>139427231788448*</title>\n<ellipse fill=\"none\" stroke=\"black\" cx=\"2661\" cy=\"-153.5\" rx=\"27\" ry=\"18\"/>\n<text text-anchor=\"middle\" x=\"2661\" y=\"-149.8\" font-family=\"Times,serif\" font-size=\"14.00\">*</text>\n</g>\n<!-- 139427231444336&#45;&gt;139427231788448* -->\n<g id=\"edge13\" class=\"edge\">\n<title>139427231444336&#45;&gt;139427231788448*</title>\n<path fill=\"none\" stroke=\"black\" d=\"M2380.31,-174.9C2441.7,-170.37 2524.76,-164.19 2598,-158.5 2606.42,-157.85 2615.48,-157.13 2624.01,-156.44\"/>\n<polygon fill=\"black\" stroke=\"black\" points=\"2624.37,-159.92 2634.06,-155.63 2623.81,-152.94 2624.37,-159.92\"/>\n</g>\n<!-- 139427231444336+ -->\n<g id=\"node16\" class=\"node\">\n<title>139427231444336+</title>\n<ellipse fill=\"none\" stroke=\"black\" cx=\"1913\" cy=\"-181.5\" rx=\"27\" ry=\"18\"/>\n<text text-anchor=\"middle\" x=\"1913\" y=\"-177.8\" font-family=\"Times,serif\" font-size=\"14.00\">+</text>\n</g>\n<!-- 139427231444336+&#45;&gt;139427231444336 -->\n<g id=\"edge5\" class=\"edge\">\n<title>139427231444336+&#45;&gt;139427231444336</title>\n<path fill=\"none\" stroke=\"black\" d=\"M1940,-181.5C1990.46,-181.5 2104.06,-181.5 2187.81,-181.5\"/>\n<polygon fill=\"black\" stroke=\"black\" points=\"2187.87,-185 2197.87,-181.5 2187.87,-178 2187.87,-185\"/>\n</g>\n<!-- 139427231446256 -->\n<g id=\"node17\" class=\"node\">\n<title>139427231446256</title>\n<polygon fill=\"none\" stroke=\"black\" points=\"2.5,-0.5 2.5,-36.5 197.5,-36.5 197.5,-0.5 2.5,-0.5\"/>\n<text text-anchor=\"middle\" x=\"19\" y=\"-14.8\" font-family=\"Times,serif\" font-size=\"14.00\">w2</text>\n<polyline fill=\"none\" stroke=\"black\" points=\"35.5,-0.5 35.5,-36.5 \"/>\n<text text-anchor=\"middle\" x=\"75.5\" y=\"-14.8\" font-family=\"Times,serif\" font-size=\"14.00\">data 1.0000</text>\n<polyline fill=\"none\" stroke=\"black\" points=\"115.5,-0.5 115.5,-36.5 \"/>\n<text text-anchor=\"middle\" x=\"156.5\" y=\"-14.8\" font-family=\"Times,serif\" font-size=\"14.00\">grad 0.0000</text>\n</g>\n<!-- 139427231446256&#45;&gt;139427231438336* -->\n<g id=\"edge25\" class=\"edge\">\n<title>139427231446256&#45;&gt;139427231438336*</title>\n<path fill=\"none\" stroke=\"black\" d=\"M172.53,-36.56C181.84,-39.33 191.2,-42.33 200,-45.5 210.53,-49.29 221.75,-54.1 231.72,-58.67\"/>\n<polygon fill=\"black\" stroke=\"black\" points=\"230.28,-61.86 240.82,-62.93 233.25,-55.52 230.28,-61.86\"/>\n</g>\n<!-- 139427231445824 -->\n<g id=\"node18\" class=\"node\">\n<title>139427231445824</title>\n<polygon fill=\"none\" stroke=\"black\" points=\"1663,-191.5 1663,-227.5 1850,-227.5 1850,-191.5 1663,-191.5\"/>\n<text text-anchor=\"middle\" x=\"1673\" y=\"-205.8\" font-family=\"Times,serif\" font-size=\"14.00\"> </text>\n<polyline fill=\"none\" stroke=\"black\" points=\"1683,-191.5 1683,-227.5 \"/>\n<text text-anchor=\"middle\" x=\"1725.5\" y=\"-205.8\" font-family=\"Times,serif\" font-size=\"14.00\">data &#45;1.0000</text>\n<polyline fill=\"none\" stroke=\"black\" points=\"1768,-191.5 1768,-227.5 \"/>\n<text text-anchor=\"middle\" x=\"1809\" y=\"-205.8\" font-family=\"Times,serif\" font-size=\"14.00\">grad 0.1464</text>\n</g>\n<!-- 139427231445824&#45;&gt;139427231444336+ -->\n<g id=\"edge24\" class=\"edge\">\n<title>139427231445824&#45;&gt;139427231444336+</title>\n<path fill=\"none\" stroke=\"black\" d=\"M1850.05,-192.73C1859.54,-191.01 1868.71,-189.35 1876.95,-187.85\"/>\n<polygon fill=\"black\" stroke=\"black\" points=\"1877.64,-191.28 1886.85,-186.06 1876.39,-184.4 1877.64,-191.28\"/>\n</g>\n<!-- 139427231448416 -->\n<g id=\"node19\" class=\"node\">\n<title>139427231448416</title>\n<polygon fill=\"none\" stroke=\"black\" points=\"1665.5,-136.5 1665.5,-172.5 1847.5,-172.5 1847.5,-136.5 1665.5,-136.5\"/>\n<text text-anchor=\"middle\" x=\"1675.5\" y=\"-150.8\" font-family=\"Times,serif\" font-size=\"14.00\"> </text>\n<polyline fill=\"none\" stroke=\"black\" points=\"1685.5,-136.5 1685.5,-172.5 \"/>\n<text text-anchor=\"middle\" x=\"1725.5\" y=\"-150.8\" font-family=\"Times,serif\" font-size=\"14.00\">data 5.8284</text>\n<polyline fill=\"none\" stroke=\"black\" points=\"1765.5,-136.5 1765.5,-172.5 \"/>\n<text text-anchor=\"middle\" x=\"1806.5\" y=\"-150.8\" font-family=\"Times,serif\" font-size=\"14.00\">grad 0.1250</text>\n</g>\n<!-- 139427231448416&#45;&gt;139427231788160+ -->\n<g id=\"edge16\" class=\"edge\">\n<title>139427231448416&#45;&gt;139427231788160+</title>\n<path fill=\"none\" stroke=\"black\" d=\"M1847.82,-138.13C1858.07,-136.27 1868.01,-134.47 1876.88,-132.87\"/>\n<polygon fill=\"black\" stroke=\"black\" points=\"1877.54,-136.3 1886.75,-131.08 1876.29,-129.42 1877.54,-136.3\"/>\n</g>\n<!-- 139427231448416&#45;&gt;139427231444336+ -->\n<g id=\"edge26\" class=\"edge\">\n<title>139427231448416&#45;&gt;139427231444336+</title>\n<path fill=\"none\" stroke=\"black\" d=\"M1847.82,-170.28C1858.07,-172.08 1868.01,-173.81 1876.88,-175.36\"/>\n<polygon fill=\"black\" stroke=\"black\" points=\"1876.3,-178.81 1886.75,-177.09 1877.5,-171.92 1876.3,-178.81\"/>\n</g>\n<!-- 139427231448416exp -->\n<g id=\"node20\" class=\"node\">\n<title>139427231448416exp</title>\n<ellipse fill=\"none\" stroke=\"black\" cx=\"1600\" cy=\"-154.5\" rx=\"27\" ry=\"18\"/>\n<text text-anchor=\"middle\" x=\"1600\" y=\"-150.8\" font-family=\"Times,serif\" font-size=\"14.00\">exp</text>\n</g>\n<!-- 139427231448416exp&#45;&gt;139427231448416 -->\n<g id=\"edge6\" class=\"edge\">\n<title>139427231448416exp&#45;&gt;139427231448416</title>\n<path fill=\"none\" stroke=\"black\" d=\"M1627.21,-154.5C1635.34,-154.5 1644.85,-154.5 1654.94,-154.5\"/>\n<polygon fill=\"black\" stroke=\"black\" points=\"1655.19,-158 1665.19,-154.5 1655.19,-151 1655.19,-158\"/>\n</g>\n<!-- 139427231442272 -->\n<g id=\"node21\" class=\"node\">\n<title>139427231442272</title>\n<polygon fill=\"none\" stroke=\"black\" points=\"1355,-136.5 1355,-172.5 1537,-172.5 1537,-136.5 1355,-136.5\"/>\n<text text-anchor=\"middle\" x=\"1365\" y=\"-150.8\" font-family=\"Times,serif\" font-size=\"14.00\"> </text>\n<polyline fill=\"none\" stroke=\"black\" points=\"1375,-136.5 1375,-172.5 \"/>\n<text text-anchor=\"middle\" x=\"1415\" y=\"-150.8\" font-family=\"Times,serif\" font-size=\"14.00\">data 1.7627</text>\n<polyline fill=\"none\" stroke=\"black\" points=\"1455,-136.5 1455,-172.5 \"/>\n<text text-anchor=\"middle\" x=\"1496\" y=\"-150.8\" font-family=\"Times,serif\" font-size=\"14.00\">grad 0.7286</text>\n</g>\n<!-- 139427231442272&#45;&gt;139427231448416exp -->\n<g id=\"edge21\" class=\"edge\">\n<title>139427231442272&#45;&gt;139427231448416exp</title>\n<path fill=\"none\" stroke=\"black\" d=\"M1537.18,-154.5C1546.14,-154.5 1554.83,-154.5 1562.73,-154.5\"/>\n<polygon fill=\"black\" stroke=\"black\" points=\"1562.96,-158 1572.96,-154.5 1562.96,-151 1562.96,-158\"/>\n</g>\n<!-- 139427231442272*&#45;&gt;139427231442272 -->\n<g id=\"edge7\" class=\"edge\">\n<title>139427231442272*&#45;&gt;139427231442272</title>\n<path fill=\"none\" stroke=\"black\" d=\"M1319.13,-154.5C1326.67,-154.5 1335.39,-154.5 1344.64,-154.5\"/>\n<polygon fill=\"black\" stroke=\"black\" points=\"1344.87,-158 1354.87,-154.5 1344.87,-151 1344.87,-158\"/>\n</g>\n<!-- 139427231788448 -->\n<g id=\"node23\" class=\"node\">\n<title>139427231788448</title>\n<polygon fill=\"none\" stroke=\"black\" points=\"2724,-135.5 2724,-171.5 2909,-171.5 2909,-135.5 2724,-135.5\"/>\n<text text-anchor=\"middle\" x=\"2735.5\" y=\"-149.8\" font-family=\"Times,serif\" font-size=\"14.00\">o</text>\n<polyline fill=\"none\" stroke=\"black\" points=\"2747,-135.5 2747,-171.5 \"/>\n<text text-anchor=\"middle\" x=\"2787\" y=\"-149.8\" font-family=\"Times,serif\" font-size=\"14.00\">data 0.7071</text>\n<polyline fill=\"none\" stroke=\"black\" points=\"2827,-135.5 2827,-171.5 \"/>\n<text text-anchor=\"middle\" x=\"2868\" y=\"-149.8\" font-family=\"Times,serif\" font-size=\"14.00\">grad 1.0000</text>\n</g>\n<!-- 139427231788448*&#45;&gt;139427231788448 -->\n<g id=\"edge8\" class=\"edge\">\n<title>139427231788448*&#45;&gt;139427231788448</title>\n<path fill=\"none\" stroke=\"black\" d=\"M2688.04,-153.5C2695.58,-153.5 2704.3,-153.5 2713.57,-153.5\"/>\n<polygon fill=\"black\" stroke=\"black\" points=\"2713.81,-157 2723.81,-153.5 2713.81,-150 2713.81,-157\"/>\n</g>\n<!-- 139427231438192 -->\n<g id=\"node25\" class=\"node\">\n<title>139427231438192</title>\n<polygon fill=\"none\" stroke=\"black\" points=\"1044,-109.5 1044,-145.5 1229,-145.5 1229,-109.5 1044,-109.5\"/>\n<text text-anchor=\"middle\" x=\"1055.5\" y=\"-123.8\" font-family=\"Times,serif\" font-size=\"14.00\">n</text>\n<polyline fill=\"none\" stroke=\"black\" points=\"1067,-109.5 1067,-145.5 \"/>\n<text text-anchor=\"middle\" x=\"1107\" y=\"-123.8\" font-family=\"Times,serif\" font-size=\"14.00\">data 0.8814</text>\n<polyline fill=\"none\" stroke=\"black\" points=\"1147,-109.5 1147,-145.5 \"/>\n<text text-anchor=\"middle\" x=\"1188\" y=\"-123.8\" font-family=\"Times,serif\" font-size=\"14.00\">grad 1.4571</text>\n</g>\n<!-- 139427231438192&#45;&gt;139427231442272* -->\n<g id=\"edge15\" class=\"edge\">\n<title>139427231438192&#45;&gt;139427231442272*</title>\n<path fill=\"none\" stroke=\"black\" d=\"M1229.01,-143.6C1238.49,-145.26 1247.66,-146.88 1255.9,-148.33\"/>\n<polygon fill=\"black\" stroke=\"black\" points=\"1255.36,-151.78 1265.81,-150.07 1256.57,-144.89 1255.36,-151.78\"/>\n</g>\n<!-- 139427231438192+&#45;&gt;139427231438192 -->\n<g id=\"edge9\" class=\"edge\">\n<title>139427231438192+&#45;&gt;139427231438192</title>\n<path fill=\"none\" stroke=\"black\" d=\"M1008.04,-127.5C1015.58,-127.5 1024.3,-127.5 1033.57,-127.5\"/>\n<polygon fill=\"black\" stroke=\"black\" points=\"1033.81,-131 1043.81,-127.5 1033.81,-124 1033.81,-131\"/>\n</g>\n<!-- 139427231781872 -->\n<g id=\"node27\" class=\"node\">\n<title>139427231781872</title>\n<polygon fill=\"none\" stroke=\"black\" points=\"2416,-112.5 2416,-148.5 2598,-148.5 2598,-112.5 2416,-112.5\"/>\n<text text-anchor=\"middle\" x=\"2426\" y=\"-126.8\" font-family=\"Times,serif\" font-size=\"14.00\"> </text>\n<polyline fill=\"none\" stroke=\"black\" points=\"2436,-112.5 2436,-148.5 \"/>\n<text text-anchor=\"middle\" x=\"2476\" y=\"-126.8\" font-family=\"Times,serif\" font-size=\"14.00\">data 0.1464</text>\n<polyline fill=\"none\" stroke=\"black\" points=\"2516,-112.5 2516,-148.5 \"/>\n<text text-anchor=\"middle\" x=\"2557\" y=\"-126.8\" font-family=\"Times,serif\" font-size=\"14.00\">grad 4.8284</text>\n</g>\n<!-- 139427231781872&#45;&gt;139427231788448* -->\n<g id=\"edge17\" class=\"edge\">\n<title>139427231781872&#45;&gt;139427231788448*</title>\n<path fill=\"none\" stroke=\"black\" d=\"M2598.18,-144.15C2607.42,-145.54 2616.38,-146.9 2624.47,-148.12\"/>\n<polygon fill=\"black\" stroke=\"black\" points=\"2624.15,-151.61 2634.56,-149.65 2625.19,-144.69 2624.15,-151.61\"/>\n</g>\n<!-- 139427231781872**&#45;1&#45;&gt;139427231781872 -->\n<g id=\"edge10\" class=\"edge\">\n<title>139427231781872**&#45;1&#45;&gt;139427231781872</title>\n<path fill=\"none\" stroke=\"black\" d=\"M2316.05,-126.98C2338.53,-127.4 2372.48,-128.03 2405.5,-128.64\"/>\n<polygon fill=\"black\" stroke=\"black\" points=\"2405.64,-132.14 2415.7,-128.83 2405.77,-125.14 2405.64,-132.14\"/>\n</g>\n</g>\n</svg>\n",
            "text/plain": [
              "<graphviz.graphs.Digraph at 0x7eceee9a0f70>"
            ]
          },
          "metadata": {},
          "execution_count": 31
        }
      ]
    },
    {
      "cell_type": "code",
      "source": [
        "a = Value(-2.0 , label = 'a')\n",
        "b = a+a ; b.label = 'b'\n",
        "b"
      ],
      "metadata": {
        "id": "5k4EeL0nJWX7",
        "colab": {
          "base_uri": "https://localhost:8080/"
        },
        "outputId": "44d106db-8378-49d0-ec27-e950fe0fd70b"
      },
      "execution_count": null,
      "outputs": [
        {
          "output_type": "execute_result",
          "data": {
            "text/plain": [
              "value(data=-4.0)"
            ]
          },
          "metadata": {},
          "execution_count": 20
        }
      ]
    },
    {
      "cell_type": "code",
      "source": [
        "b.backward()"
      ],
      "metadata": {
        "id": "6E8fsKOdwrl1"
      },
      "execution_count": null,
      "outputs": []
    },
    {
      "cell_type": "code",
      "source": [
        "draw_dot(b)"
      ],
      "metadata": {
        "colab": {
          "base_uri": "https://localhost:8080/",
          "height": 81
        },
        "id": "3-dtPT_ywl5Z",
        "outputId": "73af77be-591d-4980-83e6-1162dda92ede"
      },
      "execution_count": null,
      "outputs": [
        {
          "output_type": "execute_result",
          "data": {
            "image/svg+xml": "<?xml version=\"1.0\" encoding=\"UTF-8\" standalone=\"no\"?>\n<!DOCTYPE svg PUBLIC \"-//W3C//DTD SVG 1.1//EN\"\n \"http://www.w3.org/Graphics/SVG/1.1/DTD/svg11.dtd\">\n<!-- Generated by graphviz version 2.43.0 (0)\n -->\n<!-- Title: %3 Pages: 1 -->\n<svg width=\"514pt\" height=\"45pt\"\n viewBox=\"0.00 0.00 514.00 45.00\" xmlns=\"http://www.w3.org/2000/svg\" xmlns:xlink=\"http://www.w3.org/1999/xlink\">\n<g id=\"graph0\" class=\"graph\" transform=\"scale(1 1) rotate(0) translate(4 41)\">\n<title>%3</title>\n<polygon fill=\"white\" stroke=\"transparent\" points=\"-4,4 -4,-41 510,-41 510,4 -4,4\"/>\n<!-- 134537552048960 -->\n<g id=\"node1\" class=\"node\">\n<title>134537552048960</title>\n<polygon fill=\"none\" stroke=\"black\" points=\"0,-0.5 0,-36.5 190,-36.5 190,-0.5 0,-0.5\"/>\n<text text-anchor=\"middle\" x=\"11.5\" y=\"-14.8\" font-family=\"Times,serif\" font-size=\"14.00\">a</text>\n<polyline fill=\"none\" stroke=\"black\" points=\"23,-0.5 23,-36.5 \"/>\n<text text-anchor=\"middle\" x=\"65.5\" y=\"-14.8\" font-family=\"Times,serif\" font-size=\"14.00\">data &#45;2.0000</text>\n<polyline fill=\"none\" stroke=\"black\" points=\"108,-0.5 108,-36.5 \"/>\n<text text-anchor=\"middle\" x=\"149\" y=\"-14.8\" font-family=\"Times,serif\" font-size=\"14.00\">grad 2.0000</text>\n</g>\n<!-- 134537552048480+ -->\n<g id=\"node3\" class=\"node\">\n<title>134537552048480+</title>\n<ellipse fill=\"none\" stroke=\"black\" cx=\"253\" cy=\"-18.5\" rx=\"27\" ry=\"18\"/>\n<text text-anchor=\"middle\" x=\"253\" y=\"-14.8\" font-family=\"Times,serif\" font-size=\"14.00\">+</text>\n</g>\n<!-- 134537552048960&#45;&gt;134537552048480+ -->\n<g id=\"edge2\" class=\"edge\">\n<title>134537552048960&#45;&gt;134537552048480+</title>\n<path fill=\"none\" stroke=\"black\" d=\"M190.34,-18.5C199.26,-18.5 207.87,-18.5 215.69,-18.5\"/>\n<polygon fill=\"black\" stroke=\"black\" points=\"215.82,-22 225.82,-18.5 215.82,-15 215.82,-22\"/>\n</g>\n<!-- 134537552048480 -->\n<g id=\"node2\" class=\"node\">\n<title>134537552048480</title>\n<polygon fill=\"none\" stroke=\"black\" points=\"316,-0.5 316,-36.5 506,-36.5 506,-0.5 316,-0.5\"/>\n<text text-anchor=\"middle\" x=\"327.5\" y=\"-14.8\" font-family=\"Times,serif\" font-size=\"14.00\">b</text>\n<polyline fill=\"none\" stroke=\"black\" points=\"339,-0.5 339,-36.5 \"/>\n<text text-anchor=\"middle\" x=\"381.5\" y=\"-14.8\" font-family=\"Times,serif\" font-size=\"14.00\">data &#45;4.0000</text>\n<polyline fill=\"none\" stroke=\"black\" points=\"424,-0.5 424,-36.5 \"/>\n<text text-anchor=\"middle\" x=\"465\" y=\"-14.8\" font-family=\"Times,serif\" font-size=\"14.00\">grad 1.0000</text>\n</g>\n<!-- 134537552048480+&#45;&gt;134537552048480 -->\n<g id=\"edge1\" class=\"edge\">\n<title>134537552048480+&#45;&gt;134537552048480</title>\n<path fill=\"none\" stroke=\"black\" d=\"M280.11,-18.5C287.63,-18.5 296.32,-18.5 305.58,-18.5\"/>\n<polygon fill=\"black\" stroke=\"black\" points=\"305.81,-22 315.81,-18.5 305.81,-15 305.81,-22\"/>\n</g>\n</g>\n</svg>\n",
            "text/plain": [
              "<graphviz.graphs.Digraph at 0x7a5c76ebdf00>"
            ]
          },
          "metadata": {},
          "execution_count": 23
        }
      ]
    },
    {
      "cell_type": "code",
      "source": [
        "a = Value(2.0)\n",
        "b =Value(5.0)\n",
        "c = a.exp()\n",
        "c"
      ],
      "metadata": {
        "id": "rQCU10rXwo-b"
      },
      "execution_count": null,
      "outputs": []
    },
    {
      "cell_type": "code",
      "source": [
        "class Neuron:\n",
        "  def __init__(self,nin):\n",
        "    self.w = [Value(np.random.uniform(-1,1)) for _ in range(nin)]\n",
        "    self.b = Value(np.random.uniform(-1,1))\n",
        "  def __call__(self,x):\n",
        "    act = sum((wi*xi for wi,xi in zip(self.w,x)),self.b)\n",
        "    out = act.tanh()\n",
        "    return out\n",
        "  def parameters(self):\n",
        "    return self.w+[self.b]\n",
        "\n",
        "class Layer:\n",
        "  def __init__(self,nin,nout):\n",
        "    self.neurons = [Neuron(nin) for _ in range(nout)]\n",
        "  def __call__(self,x):\n",
        "    outs = [n(x) for n in self.neurons]\n",
        "    return outs\n",
        "  def parameters(self):\n",
        "    return [p for neuron in self.neurons for p in neuron.parameters()]\n",
        "\n",
        "\n",
        "class MLP:\n",
        "  def __init__(self,nin,nouts):\n",
        "    sz = [nin] + nouts\n",
        "    self.layers = [Layer(sz[i],sz[i+1]) for i in range(len(sz)-1)]\n",
        "  def __call__(self,x):\n",
        "    for layer in self.layers:\n",
        "      x = layer(x)\n",
        "    return x\n",
        "\n",
        "  def parameters(self):\n",
        "    return [p for layer in self.layera for p in layer.parameters()]"
      ],
      "metadata": {
        "id": "uKAuVf5vl7rO"
      },
      "execution_count": 45,
      "outputs": []
    },
    {
      "cell_type": "code",
      "source": [
        "x = [2.0,3.0]\n",
        "n = MLP(2,[4,4,3])\n",
        "n(x)"
      ],
      "metadata": {
        "colab": {
          "base_uri": "https://localhost:8080/"
        },
        "id": "NklhlyO2oyy_",
        "outputId": "55854f24-2909-4242-9e7c-71fb4c7a3647"
      },
      "execution_count": 43,
      "outputs": [
        {
          "output_type": "execute_result",
          "data": {
            "text/plain": [
              "[value(data=-0.6559073999226513),\n",
              " value(data=-0.8775411636566539),\n",
              " value(data=-0.5674362270747351)]"
            ]
          },
          "metadata": {},
          "execution_count": 43
        }
      ]
    },
    {
      "cell_type": "code",
      "source": [
        "x+[2]"
      ],
      "metadata": {
        "colab": {
          "base_uri": "https://localhost:8080/"
        },
        "id": "frpoj3DnqKP7",
        "outputId": "548742cf-e9fd-4189-ca85-8e1339f1c5fd"
      },
      "execution_count": 38,
      "outputs": [
        {
          "output_type": "execute_result",
          "data": {
            "text/plain": [
              "[2.0, 3.0, 2]"
            ]
          },
          "metadata": {},
          "execution_count": 38
        }
      ]
    },
    {
      "cell_type": "code",
      "source": [],
      "metadata": {
        "id": "T7zSoKV0sW_g"
      },
      "execution_count": null,
      "outputs": []
    }
  ]
}